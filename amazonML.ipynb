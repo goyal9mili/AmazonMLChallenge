{
 "cells": [
  {
   "cell_type": "code",
   "execution_count": 59,
   "id": "173e50a4",
   "metadata": {},
   "outputs": [],
   "source": [
    "import pandas as pd\n",
    "import numpy as np\n",
    "import csv"
   ]
  },
  {
   "cell_type": "code",
   "execution_count": 60,
   "id": "432da6a1",
   "metadata": {},
   "outputs": [],
   "source": [
    "data = pd.read_csv(\"/home/mili/Downloads/dataset52a7b21/dataset/train.csv\", escapechar = \"\\\\\", quoting = csv.QUOTE_NONE)"
   ]
  },
  {
   "cell_type": "code",
   "execution_count": 62,
   "id": "a3558c12",
   "metadata": {},
   "outputs": [
    {
     "data": {
      "text/html": [
       "<div>\n",
       "<style scoped>\n",
       "    .dataframe tbody tr th:only-of-type {\n",
       "        vertical-align: middle;\n",
       "    }\n",
       "\n",
       "    .dataframe tbody tr th {\n",
       "        vertical-align: top;\n",
       "    }\n",
       "\n",
       "    .dataframe thead th {\n",
       "        text-align: right;\n",
       "    }\n",
       "</style>\n",
       "<table border=\"1\" class=\"dataframe\">\n",
       "  <thead>\n",
       "    <tr style=\"text-align: right;\">\n",
       "      <th></th>\n",
       "      <th>TITLE</th>\n",
       "      <th>DESCRIPTION</th>\n",
       "      <th>BULLET_POINTS</th>\n",
       "      <th>BRAND</th>\n",
       "      <th>BROWSE_NODE_ID</th>\n",
       "    </tr>\n",
       "  </thead>\n",
       "  <tbody>\n",
       "    <tr>\n",
       "      <th>0</th>\n",
       "      <td>Pete The Cat Bedtime Blues Doll, 14.5 Inch</td>\n",
       "      <td>Pete the Cat is the coolest, most popular cat in town. The new Pete the Cat Bedtime Blues Doll from MerryMakers rocks his striped pj's and red slippers. He is one sleepy cat and is ready to cuddle. Measures 14.5 inches tall. Safe for all ages. Removable clothing. Surface wash only. New 2015</td>\n",
       "      <td>[Pete the Cat Bedtime Blues plush doll,Based on the popular Pete the Cat books by James Dean,Super cuddly and ready for naptime and bedtime,Safe for all ages, perfect for ages 2 and up,Measures 14. 5 inches]</td>\n",
       "      <td>MerryMakers</td>\n",
       "      <td>0</td>\n",
       "    </tr>\n",
       "    <tr>\n",
       "      <th>1</th>\n",
       "      <td>The New Yorker NYHM014 Refrigerator Magnet, 2 x 3.5</td>\n",
       "      <td>The New Yorker Handsome Cello Wrapped Hard Magnet measures 2.5-Inch width by 3.5-Inch height and highlight one of the many beautiful New Yorker covers in full color. Cat In A Tea Cup by New Yorker cover artist Gurbuz Dogan Eksioglu</td>\n",
       "      <td>[Cat In A Tea Cup by New Yorker cover artist Gurbuz Dogan Eksioglu,Handsome cello wrapped hard magnet,Ideal for home or office, or for a gift and for any New Yorker magazine lover,It highlight one of the many beautiful New Yorker covers in full color,Rigid magnet measures 2. 5-Inch width by 3. 5-Inch height]</td>\n",
       "      <td>The New Yorker</td>\n",
       "      <td>1</td>\n",
       "    </tr>\n",
       "    <tr>\n",
       "      <th>2</th>\n",
       "      <td>The Ultimate Self-Sufficiency Handbook: A Complete Guide to Baking, Crafts, Gardening, Preserving Your Harvest, Raising Animals and More</td>\n",
       "      <td>NaN</td>\n",
       "      <td>Skyhorse Publishing</td>\n",
       "      <td>imusti</td>\n",
       "      <td>2</td>\n",
       "    </tr>\n",
       "    <tr>\n",
       "      <th>3</th>\n",
       "      <td>Amway Nutrilite Kids Chewable Iron Tablets (100)</td>\n",
       "      <td>NaN</td>\n",
       "      <td>[Nutrilite Kids,Chewable Iron Tablets,Quantity 100 tablets]</td>\n",
       "      <td>Amway</td>\n",
       "      <td>3</td>\n",
       "    </tr>\n",
       "    <tr>\n",
       "      <th>4</th>\n",
       "      <td>Teacher Planner Company A4 6 Lesson Academic Teacher Planner - Leatherette Pink</td>\n",
       "      <td>NaN</td>\n",
       "      <td>NaN</td>\n",
       "      <td>NaN</td>\n",
       "      <td>4</td>\n",
       "    </tr>\n",
       "    <tr>\n",
       "      <th>...</th>\n",
       "      <td>...</td>\n",
       "      <td>...</td>\n",
       "      <td>...</td>\n",
       "      <td>...</td>\n",
       "      <td>...</td>\n",
       "    </tr>\n",
       "    <tr>\n",
       "      <th>2903019</th>\n",
       "      <td>Premium Aviator Sunglasses - HD Polarized (Bright Gold/Ocean Green)</td>\n",
       "      <td>These premium Aviator Sunglasses with 5 color options are crafted for perfection. With light weight metallic frames and nose pads designed for ultimate comfort they are a must have accessory for your next outing. These Polarized glasses are great at UV400 protection. They are Anti Glare and easy to clean. Lenses are made with TAC material which is well known for - a) Effectively reduce the strong light, eliminate the dazzling reflection and scattered light, so that the disordered light into parallel light, so that the object more clear, soft and clear. b) UV400 Protection for all-round protection of the eyes, the polarizing layer provides more than 99% of the polarizing effect as well as effective absorption of glare These Sunglasses come with a premium case to keep them safe when not in use.</td>\n",
       "      <td>[Frame size: Lens height - 56mm, Lens width - 58 mm, nose-bridge: 16 mm, temple length: 140mm,Unisex Sunglasses,Comes in 5 colors,Sunglasses come with a premium case to keep them safe when not in use.,Lenses are made with TAC material]</td>\n",
       "      <td>Generic</td>\n",
       "      <td>1040</td>\n",
       "    </tr>\n",
       "    <tr>\n",
       "      <th>2903020</th>\n",
       "      <td>Social Distance Stickers - Set of 5 Sticker Slip Resistance, Durable &amp; Strong Adhesive, Easy to Paste-R/Y</td>\n",
       "      <td>set of 5 prints social distancing sticker self adhesive vinyl sticker which is easy to paste on floor to spread awareness and create a safe surrounding to make all your workspace / house safer with these signages. it can be used in any place - restaurant/ offices / school / college / retail / factory / hotel</td>\n",
       "      <td>[covid19 safety sticker - set of 5 to maintain crowd control with gloss finish floor sticker for more highlight and attention,easy to paste on wall , tiles, marble, plastic sheet or any flat and smooth surface,made from self adhesive pvc durable vinyl material | please clean and disinfect the floor of any soiling and dirt so as to avoid any bubbling. make sure the surface is dry before pasting,can be used in any place - restaurant/ offices / school / college / retail / factory / hotel]</td>\n",
       "      <td>Generic</td>\n",
       "      <td>15199</td>\n",
       "    </tr>\n",
       "    <tr>\n",
       "      <th>2903021</th>\n",
       "      <td>Torr-to Face Shield PACK OF 5 with Adjustable Elastic Strap Anti-Splash Protective Facial Transparent Cover Full Face Visor with Eye &amp; Head Protection for Men &amp; Women, 350 Micron,</td>\n",
       "      <td>* COMPLETE FACE PROTECTION: Torr-to Face Shield effectively isolates your face from saliva, spray, splatter, droplet, dust, oil and smoke while offering crystal clear vision for ease in doing tasks. * COMFORTABLE, ADJUSTABLE &amp; REUSABLE: Equipped with 350 micron sheet with elastic band and sponge headband which is suitable for extended wear. * ANTI-FOG &amp; ANTI-STATIC: It is coated with anti-fog and anti-static materials to ensure maximum visibility like it’s not even on your face. Good solution for keeping mist and droplets off your face. * FITS FOR ALL: Easy to adjust for a custom fit, thanks to its elastic headband that offers a secure fit on all head sizes. * HUMANIZED PROTECTIVE COVER: Our offered Anti-Splash Facial Shield perfectly fits over prescription glasses for effortless working in environments such as Hospitals, Lab, Woodworking, etc</td>\n",
       "      <td>[350 MICRONS PACK OF 5 PCS,COMPLETE FACE PROTECTION: Torr-to Face Shield effectively isolates your face from saliva, spray, splatter, droplet, dust, oil and smoke while offering crystal clear vision for ease in doing tasks.,COMFORTABLE, ADJUSTABLE &amp; REUSABLE: Equipped with 350 micron sheet with elastic band and sponge headband which is suitable for extended wear.,ANTI-FOG &amp; ANTI-STATIC: It is coated with anti-fog and anti-static materials to ensure maximum visibility like it’s not even on your face. Good solution for keeping mist and droplets off your face.,FITS FOR ALL: Easy to adjust for a custom fit, thanks to its elastic headband that offers a secure fit on all head sizes. HUMANIZED PROTECTIVE COVER: Our offered Anti-Splash Facial Shield perfectly fits over prescription glasses for effortless working in environments such as Hospitals, Lab, Woodworking, etc]</td>\n",
       "      <td>TORR-TO</td>\n",
       "      <td>1044933</td>\n",
       "    </tr>\n",
       "    <tr>\n",
       "      <th>2903022</th>\n",
       "      <td>Type-C to 3.5 MM for Oppo R17 Pro Type-C to 3.5 MM Audio Jack Adapter Converter for CDLA Type, USB C Connector Splitter (White)</td>\n",
       "      <td>Still want to use your favorite earphones/headphones with your LeEco Le2 smartphone? Grab this handy - CDLA USB Type-C Male to 3.5 mm Female Stereo Audio Adapter Audio Adapter Type-C To 3.5mm Earphone Microphone Headset Jack Covertor Cable For Letv Le 2 Genuine USB 3.1 Type C to 3.5mm Stereo Audio Adapter This adapter for LeEco enables you to use any headset with your device having USB 3.1 Type C port for both audio and charging.</td>\n",
       "      <td>[Indian Connectors: Made for Indian sockets, the wall charger lets you plug in without the need for an adapter And Over-current, Short-circuit and Over-temperature protect your device.,Smart Charge: Auto Detects the connected device and charges it at the fastest speed of the device.,EXCLUSIVE TECHNOLOGY: India's smallest charger with 2.1 amp power supply. Exclusive quick charge technology automatically detects and delivers the optimal charging current for any connected device - ensuring the quick and most efficient charge.,Fire-resistant and hardened plastic outer shell for durability, built-in premium circuitry and microchip ensure device safety.,Good Charging Speeds Most Powerful - Charge any USB powered devices at top speed continuously]</td>\n",
       "      <td>SHOPBELL</td>\n",
       "      <td>14790</td>\n",
       "    </tr>\n",
       "    <tr>\n",
       "      <th>2903023</th>\n",
       "      <td>KNG Orange Polo Tshirt (38)</td>\n",
       "      <td>Performance inspired by comfort. The polo shirt mixes the comfort of cotton with the exceptional wicking performance of polyester. Short sleeves, Rib knit collar</td>\n",
       "      <td>NaN</td>\n",
       "      <td>KNG</td>\n",
       "      <td>1213</td>\n",
       "    </tr>\n",
       "  </tbody>\n",
       "</table>\n",
       "<p>2903024 rows × 5 columns</p>\n",
       "</div>"
      ],
      "text/plain": [
       "                                                                                                                                                                                       TITLE  \\\n",
       "0                                                                                                                                                 Pete The Cat Bedtime Blues Doll, 14.5 Inch   \n",
       "1                                                                                                                                        The New Yorker NYHM014 Refrigerator Magnet, 2 x 3.5   \n",
       "2                                                   The Ultimate Self-Sufficiency Handbook: A Complete Guide to Baking, Crafts, Gardening, Preserving Your Harvest, Raising Animals and More   \n",
       "3                                                                                                                                           Amway Nutrilite Kids Chewable Iron Tablets (100)   \n",
       "4                                                                                                            Teacher Planner Company A4 6 Lesson Academic Teacher Planner - Leatherette Pink   \n",
       "...                                                                                                                                                                                      ...   \n",
       "2903019                                                                                                                  Premium Aviator Sunglasses - HD Polarized (Bright Gold/Ocean Green)   \n",
       "2903020                                                                            Social Distance Stickers - Set of 5 Sticker Slip Resistance, Durable & Strong Adhesive, Easy to Paste-R/Y   \n",
       "2903021  Torr-to Face Shield PACK OF 5 with Adjustable Elastic Strap Anti-Splash Protective Facial Transparent Cover Full Face Visor with Eye & Head Protection for Men & Women, 350 Micron,   \n",
       "2903022                                                      Type-C to 3.5 MM for Oppo R17 Pro Type-C to 3.5 MM Audio Jack Adapter Converter for CDLA Type, USB C Connector Splitter (White)   \n",
       "2903023                                                                                                                                                          KNG Orange Polo Tshirt (38)   \n",
       "\n",
       "                                                                                                                                                                                                                                                                                                                                                                                                                                                                                                                                                                                                                                                                                                                                                                                                                                                                                     DESCRIPTION  \\\n",
       "0                                                                                                                                                                                                                                                                                                                                                                                                                                                                                                                                                                                            Pete the Cat is the coolest, most popular cat in town. The new Pete the Cat Bedtime Blues Doll from MerryMakers rocks his striped pj's and red slippers. He is one sleepy cat and is ready to cuddle. Measures 14.5 inches tall. Safe for all ages. Removable clothing. Surface wash only. New 2015   \n",
       "1                                                                                                                                                                                                                                                                                                                                                                                                                                                                                                                                                                                                                                                        The New Yorker Handsome Cello Wrapped Hard Magnet measures 2.5-Inch width by 3.5-Inch height and highlight one of the many beautiful New Yorker covers in full color. Cat In A Tea Cup by New Yorker cover artist Gurbuz Dogan Eksioglu   \n",
       "2                                                                                                                                                                                                                                                                                                                                                                                                                                                                                                                                                                                                                                                                                                                                                                                                                                                                                            NaN   \n",
       "3                                                                                                                                                                                                                                                                                                                                                                                                                                                                                                                                                                                                                                                                                                                                                                                                                                                                                            NaN   \n",
       "4                                                                                                                                                                                                                                                                                                                                                                                                                                                                                                                                                                                                                                                                                                                                                                                                                                                                                            NaN   \n",
       "...                                                                                                                                                                                                                                                                                                                                                                                                                                                                                                                                                                                                                                                                                                                                                                                                                                                                                          ...   \n",
       "2903019                                                      These premium Aviator Sunglasses with 5 color options are crafted for perfection. With light weight metallic frames and nose pads designed for ultimate comfort they are a must have accessory for your next outing. These Polarized glasses are great at UV400 protection. They are Anti Glare and easy to clean. Lenses are made with TAC material which is well known for - a) Effectively reduce the strong light, eliminate the dazzling reflection and scattered light, so that the disordered light into parallel light, so that the object more clear, soft and clear. b) UV400 Protection for all-round protection of the eyes, the polarizing layer provides more than 99% of the polarizing effect as well as effective absorption of glare These Sunglasses come with a premium case to keep them safe when not in use.   \n",
       "2903020                                                                                                                                                                                                                                                                                                                                                                                                                                                                                                                                                                    set of 5 prints social distancing sticker self adhesive vinyl sticker which is easy to paste on floor to spread awareness and create a safe surrounding to make all your workspace / house safer with these signages. it can be used in any place - restaurant/ offices / school / college / retail / factory / hotel   \n",
       "2903021  * COMPLETE FACE PROTECTION: Torr-to Face Shield effectively isolates your face from saliva, spray, splatter, droplet, dust, oil and smoke while offering crystal clear vision for ease in doing tasks. * COMFORTABLE, ADJUSTABLE & REUSABLE: Equipped with 350 micron sheet with elastic band and sponge headband which is suitable for extended wear. * ANTI-FOG & ANTI-STATIC: It is coated with anti-fog and anti-static materials to ensure maximum visibility like it’s not even on your face. Good solution for keeping mist and droplets off your face. * FITS FOR ALL: Easy to adjust for a custom fit, thanks to its elastic headband that offers a secure fit on all head sizes. * HUMANIZED PROTECTIVE COVER: Our offered Anti-Splash Facial Shield perfectly fits over prescription glasses for effortless working in environments such as Hospitals, Lab, Woodworking, etc   \n",
       "2903022                                                                                                                                                                                                                                                                                                                                                                                                                                        Still want to use your favorite earphones/headphones with your LeEco Le2 smartphone? Grab this handy - CDLA USB Type-C Male to 3.5 mm Female Stereo Audio Adapter Audio Adapter Type-C To 3.5mm Earphone Microphone Headset Jack Covertor Cable For Letv Le 2 Genuine USB 3.1 Type C to 3.5mm Stereo Audio Adapter This adapter for LeEco enables you to use any headset with your device having USB 3.1 Type C port for both audio and charging.   \n",
       "2903023                                                                                                                                                                                                                                                                                                                                                                                                                                                                                                                                                                                                                                                                                                                        Performance inspired by comfort. The polo shirt mixes the comfort of cotton with the exceptional wicking performance of polyester. Short sleeves, Rib knit collar   \n",
       "\n",
       "                                                                                                                                                                                                                                                                                                                                                                                                                                                                                                                                                                                                                                                                                                                                                                                                                                                                                                     BULLET_POINTS  \\\n",
       "0                                                                                                                                                                                                                                                                                                                                                                                                                                                                                                                                                                                                                                                                                                  [Pete the Cat Bedtime Blues plush doll,Based on the popular Pete the Cat books by James Dean,Super cuddly and ready for naptime and bedtime,Safe for all ages, perfect for ages 2 and up,Measures 14. 5 inches]   \n",
       "1                                                                                                                                                                                                                                                                                                                                                                                                                                                                                                                                                                                            [Cat In A Tea Cup by New Yorker cover artist Gurbuz Dogan Eksioglu,Handsome cello wrapped hard magnet,Ideal for home or office, or for a gift and for any New Yorker magazine lover,It highlight one of the many beautiful New Yorker covers in full color,Rigid magnet measures 2. 5-Inch width by 3. 5-Inch height]   \n",
       "2                                                                                                                                                                                                                                                                                                                                                                                                                                                                                                                                                                                                                                                                                                                                                                                                                                                                                              Skyhorse Publishing   \n",
       "3                                                                                                                                                                                                                                                                                                                                                                                                                                                                                                                                                                                                                                                                                                                                                                                                                                                      [Nutrilite Kids,Chewable Iron Tablets,Quantity 100 tablets]   \n",
       "4                                                                                                                                                                                                                                                                                                                                                                                                                                                                                                                                                                                                                                                                                                                                                                                                                                                                                                              NaN   \n",
       "...                                                                                                                                                                                                                                                                                                                                                                                                                                                                                                                                                                                                                                                                                                                                                                                                                                                                                                            ...   \n",
       "2903019                                                                                                                                                                                                                                                                                                                                                                                                                                                                                                                                                                                                                                                                [Frame size: Lens height - 56mm, Lens width - 58 mm, nose-bridge: 16 mm, temple length: 140mm,Unisex Sunglasses,Comes in 5 colors,Sunglasses come with a premium case to keep them safe when not in use.,Lenses are made with TAC material]   \n",
       "2903020                                                                                                                                                                                                                                                                                                                                                                                                 [covid19 safety sticker - set of 5 to maintain crowd control with gloss finish floor sticker for more highlight and attention,easy to paste on wall , tiles, marble, plastic sheet or any flat and smooth surface,made from self adhesive pvc durable vinyl material | please clean and disinfect the floor of any soiling and dirt so as to avoid any bubbling. make sure the surface is dry before pasting,can be used in any place - restaurant/ offices / school / college / retail / factory / hotel]   \n",
       "2903021  [350 MICRONS PACK OF 5 PCS,COMPLETE FACE PROTECTION: Torr-to Face Shield effectively isolates your face from saliva, spray, splatter, droplet, dust, oil and smoke while offering crystal clear vision for ease in doing tasks.,COMFORTABLE, ADJUSTABLE & REUSABLE: Equipped with 350 micron sheet with elastic band and sponge headband which is suitable for extended wear.,ANTI-FOG & ANTI-STATIC: It is coated with anti-fog and anti-static materials to ensure maximum visibility like it’s not even on your face. Good solution for keeping mist and droplets off your face.,FITS FOR ALL: Easy to adjust for a custom fit, thanks to its elastic headband that offers a secure fit on all head sizes. HUMANIZED PROTECTIVE COVER: Our offered Anti-Splash Facial Shield perfectly fits over prescription glasses for effortless working in environments such as Hospitals, Lab, Woodworking, etc]   \n",
       "2903022                                                                                                                             [Indian Connectors: Made for Indian sockets, the wall charger lets you plug in without the need for an adapter And Over-current, Short-circuit and Over-temperature protect your device.,Smart Charge: Auto Detects the connected device and charges it at the fastest speed of the device.,EXCLUSIVE TECHNOLOGY: India's smallest charger with 2.1 amp power supply. Exclusive quick charge technology automatically detects and delivers the optimal charging current for any connected device - ensuring the quick and most efficient charge.,Fire-resistant and hardened plastic outer shell for durability, built-in premium circuitry and microchip ensure device safety.,Good Charging Speeds Most Powerful - Charge any USB powered devices at top speed continuously]   \n",
       "2903023                                                                                                                                                                                                                                                                                                                                                                                                                                                                                                                                                                                                                                                                                                                                                                                                                                                                                                        NaN   \n",
       "\n",
       "                  BRAND  BROWSE_NODE_ID  \n",
       "0           MerryMakers               0  \n",
       "1        The New Yorker               1  \n",
       "2                imusti               2  \n",
       "3                 Amway               3  \n",
       "4                   NaN               4  \n",
       "...                 ...             ...  \n",
       "2903019         Generic            1040  \n",
       "2903020         Generic           15199  \n",
       "2903021         TORR-TO         1044933  \n",
       "2903022        SHOPBELL           14790  \n",
       "2903023             KNG            1213  \n",
       "\n",
       "[2903024 rows x 5 columns]"
      ]
     },
     "execution_count": 62,
     "metadata": {},
     "output_type": "execute_result"
    }
   ],
   "source": [
    "data"
   ]
  },
  {
   "cell_type": "code",
   "execution_count": 63,
   "id": "3c73fb01",
   "metadata": {
    "scrolled": true
   },
   "outputs": [
    {
     "data": {
      "text/plain": [
       "0    Pete the Cat is the coolest, most popular cat in town. The new Pete the Cat Bedtime Blues Doll from MerryMakers rocks his striped pj's and red slippers. He is one sleepy cat and is ready to cuddle. Measures 14.5 inches tall. Safe for all ages. Removable clothing. Surface wash only. New 2015\n",
       "Name: DESCRIPTION, dtype: object"
      ]
     },
     "execution_count": 63,
     "metadata": {},
     "output_type": "execute_result"
    }
   ],
   "source": [
    "data.head(n = 1).loc[:, 'DESCRIPTION']\n"
   ]
  },
  {
   "cell_type": "code",
   "execution_count": 64,
   "id": "1e2e3794",
   "metadata": {},
   "outputs": [],
   "source": [
    "pd.set_option('display.max_colwidth', None)"
   ]
  },
  {
   "cell_type": "code",
   "execution_count": 65,
   "id": "4b279f52",
   "metadata": {},
   "outputs": [],
   "source": [
    "d1 = data.head(n = 4)\n"
   ]
  },
  {
   "cell_type": "code",
   "execution_count": 66,
   "id": "598b54f6",
   "metadata": {},
   "outputs": [
    {
     "data": {
      "text/html": [
       "<div>\n",
       "<style scoped>\n",
       "    .dataframe tbody tr th:only-of-type {\n",
       "        vertical-align: middle;\n",
       "    }\n",
       "\n",
       "    .dataframe tbody tr th {\n",
       "        vertical-align: top;\n",
       "    }\n",
       "\n",
       "    .dataframe thead th {\n",
       "        text-align: right;\n",
       "    }\n",
       "</style>\n",
       "<table border=\"1\" class=\"dataframe\">\n",
       "  <thead>\n",
       "    <tr style=\"text-align: right;\">\n",
       "      <th></th>\n",
       "      <th>DESCRIPTION</th>\n",
       "      <th>BULLET_POINTS</th>\n",
       "      <th>BRAND</th>\n",
       "    </tr>\n",
       "  </thead>\n",
       "  <tbody>\n",
       "    <tr>\n",
       "      <th>0</th>\n",
       "      <td>Pete the Cat is the coolest, most popular cat in town. The new Pete the Cat Bedtime Blues Doll from MerryMakers rocks his striped pj's and red slippers. He is one sleepy cat and is ready to cuddle. Measures 14.5 inches tall. Safe for all ages. Removable clothing. Surface wash only. New 2015</td>\n",
       "      <td>[Pete the Cat Bedtime Blues plush doll,Based on the popular Pete the Cat books by James Dean,Super cuddly and ready for naptime and bedtime,Safe for all ages, perfect for ages 2 and up,Measures 14. 5 inches]</td>\n",
       "      <td>MerryMakers</td>\n",
       "    </tr>\n",
       "    <tr>\n",
       "      <th>1</th>\n",
       "      <td>The New Yorker Handsome Cello Wrapped Hard Magnet measures 2.5-Inch width by 3.5-Inch height and highlight one of the many beautiful New Yorker covers in full color. Cat In A Tea Cup by New Yorker cover artist Gurbuz Dogan Eksioglu</td>\n",
       "      <td>[Cat In A Tea Cup by New Yorker cover artist Gurbuz Dogan Eksioglu,Handsome cello wrapped hard magnet,Ideal for home or office, or for a gift and for any New Yorker magazine lover,It highlight one of the many beautiful New Yorker covers in full color,Rigid magnet measures 2. 5-Inch width by 3. 5-Inch height]</td>\n",
       "      <td>The New Yorker</td>\n",
       "    </tr>\n",
       "    <tr>\n",
       "      <th>2</th>\n",
       "      <td>NaN</td>\n",
       "      <td>Skyhorse Publishing</td>\n",
       "      <td>imusti</td>\n",
       "    </tr>\n",
       "    <tr>\n",
       "      <th>3</th>\n",
       "      <td>NaN</td>\n",
       "      <td>[Nutrilite Kids,Chewable Iron Tablets,Quantity 100 tablets]</td>\n",
       "      <td>Amway</td>\n",
       "    </tr>\n",
       "  </tbody>\n",
       "</table>\n",
       "</div>"
      ],
      "text/plain": [
       "                                                                                                                                                                                                                                                                                           DESCRIPTION  \\\n",
       "0  Pete the Cat is the coolest, most popular cat in town. The new Pete the Cat Bedtime Blues Doll from MerryMakers rocks his striped pj's and red slippers. He is one sleepy cat and is ready to cuddle. Measures 14.5 inches tall. Safe for all ages. Removable clothing. Surface wash only. New 2015   \n",
       "1                                                              The New Yorker Handsome Cello Wrapped Hard Magnet measures 2.5-Inch width by 3.5-Inch height and highlight one of the many beautiful New Yorker covers in full color. Cat In A Tea Cup by New Yorker cover artist Gurbuz Dogan Eksioglu   \n",
       "2                                                                                                                                                                                                                                                                                                  NaN   \n",
       "3                                                                                                                                                                                                                                                                                                  NaN   \n",
       "\n",
       "                                                                                                                                                                                                                                                                                                           BULLET_POINTS  \\\n",
       "0                                                                                                        [Pete the Cat Bedtime Blues plush doll,Based on the popular Pete the Cat books by James Dean,Super cuddly and ready for naptime and bedtime,Safe for all ages, perfect for ages 2 and up,Measures 14. 5 inches]   \n",
       "1  [Cat In A Tea Cup by New Yorker cover artist Gurbuz Dogan Eksioglu,Handsome cello wrapped hard magnet,Ideal for home or office, or for a gift and for any New Yorker magazine lover,It highlight one of the many beautiful New Yorker covers in full color,Rigid magnet measures 2. 5-Inch width by 3. 5-Inch height]   \n",
       "2                                                                                                                                                                                                                                                                                                    Skyhorse Publishing   \n",
       "3                                                                                                                                                                                                                                                            [Nutrilite Kids,Chewable Iron Tablets,Quantity 100 tablets]   \n",
       "\n",
       "            BRAND  \n",
       "0     MerryMakers  \n",
       "1  The New Yorker  \n",
       "2          imusti  \n",
       "3           Amway  "
      ]
     },
     "execution_count": 66,
     "metadata": {},
     "output_type": "execute_result"
    }
   ],
   "source": [
    "d1[d1.columns[1:4]]"
   ]
  },
  {
   "cell_type": "code",
   "execution_count": 67,
   "id": "1eac6567",
   "metadata": {},
   "outputs": [
    {
     "name": "stderr",
     "output_type": "stream",
     "text": [
      "/home/mili/.local/lib/python3.8/site-packages/pandas/core/frame.py:4901: SettingWithCopyWarning: \n",
      "A value is trying to be set on a copy of a slice from a DataFrame\n",
      "\n",
      "See the caveats in the documentation: https://pandas.pydata.org/pandas-docs/stable/user_guide/indexing.html#returning-a-view-versus-a-copy\n",
      "  return super().drop(\n"
     ]
    }
   ],
   "source": [
    "d1.drop(columns = 'BRAND', inplace = True)"
   ]
  },
  {
   "cell_type": "code",
   "execution_count": 68,
   "id": "4fa0fe60",
   "metadata": {
    "scrolled": true
   },
   "outputs": [
    {
     "data": {
      "text/html": [
       "<div>\n",
       "<style scoped>\n",
       "    .dataframe tbody tr th:only-of-type {\n",
       "        vertical-align: middle;\n",
       "    }\n",
       "\n",
       "    .dataframe tbody tr th {\n",
       "        vertical-align: top;\n",
       "    }\n",
       "\n",
       "    .dataframe thead th {\n",
       "        text-align: right;\n",
       "    }\n",
       "</style>\n",
       "<table border=\"1\" class=\"dataframe\">\n",
       "  <thead>\n",
       "    <tr style=\"text-align: right;\">\n",
       "      <th></th>\n",
       "      <th>TITLE</th>\n",
       "      <th>DESCRIPTION</th>\n",
       "      <th>BULLET_POINTS</th>\n",
       "      <th>BROWSE_NODE_ID</th>\n",
       "    </tr>\n",
       "  </thead>\n",
       "  <tbody>\n",
       "    <tr>\n",
       "      <th>0</th>\n",
       "      <td>Pete The Cat Bedtime Blues Doll, 14.5 Inch</td>\n",
       "      <td>Pete the Cat is the coolest, most popular cat in town. The new Pete the Cat Bedtime Blues Doll from MerryMakers rocks his striped pj's and red slippers. He is one sleepy cat and is ready to cuddle. Measures 14.5 inches tall. Safe for all ages. Removable clothing. Surface wash only. New 2015</td>\n",
       "      <td>[Pete the Cat Bedtime Blues plush doll,Based on the popular Pete the Cat books by James Dean,Super cuddly and ready for naptime and bedtime,Safe for all ages, perfect for ages 2 and up,Measures 14. 5 inches]</td>\n",
       "      <td>0</td>\n",
       "    </tr>\n",
       "    <tr>\n",
       "      <th>1</th>\n",
       "      <td>The New Yorker NYHM014 Refrigerator Magnet, 2 x 3.5</td>\n",
       "      <td>The New Yorker Handsome Cello Wrapped Hard Magnet measures 2.5-Inch width by 3.5-Inch height and highlight one of the many beautiful New Yorker covers in full color. Cat In A Tea Cup by New Yorker cover artist Gurbuz Dogan Eksioglu</td>\n",
       "      <td>[Cat In A Tea Cup by New Yorker cover artist Gurbuz Dogan Eksioglu,Handsome cello wrapped hard magnet,Ideal for home or office, or for a gift and for any New Yorker magazine lover,It highlight one of the many beautiful New Yorker covers in full color,Rigid magnet measures 2. 5-Inch width by 3. 5-Inch height]</td>\n",
       "      <td>1</td>\n",
       "    </tr>\n",
       "    <tr>\n",
       "      <th>2</th>\n",
       "      <td>The Ultimate Self-Sufficiency Handbook: A Complete Guide to Baking, Crafts, Gardening, Preserving Your Harvest, Raising Animals and More</td>\n",
       "      <td>NaN</td>\n",
       "      <td>Skyhorse Publishing</td>\n",
       "      <td>2</td>\n",
       "    </tr>\n",
       "    <tr>\n",
       "      <th>3</th>\n",
       "      <td>Amway Nutrilite Kids Chewable Iron Tablets (100)</td>\n",
       "      <td>NaN</td>\n",
       "      <td>[Nutrilite Kids,Chewable Iron Tablets,Quantity 100 tablets]</td>\n",
       "      <td>3</td>\n",
       "    </tr>\n",
       "  </tbody>\n",
       "</table>\n",
       "</div>"
      ],
      "text/plain": [
       "                                                                                                                                      TITLE  \\\n",
       "0                                                                                                Pete The Cat Bedtime Blues Doll, 14.5 Inch   \n",
       "1                                                                                       The New Yorker NYHM014 Refrigerator Magnet, 2 x 3.5   \n",
       "2  The Ultimate Self-Sufficiency Handbook: A Complete Guide to Baking, Crafts, Gardening, Preserving Your Harvest, Raising Animals and More   \n",
       "3                                                                                          Amway Nutrilite Kids Chewable Iron Tablets (100)   \n",
       "\n",
       "                                                                                                                                                                                                                                                                                           DESCRIPTION  \\\n",
       "0  Pete the Cat is the coolest, most popular cat in town. The new Pete the Cat Bedtime Blues Doll from MerryMakers rocks his striped pj's and red slippers. He is one sleepy cat and is ready to cuddle. Measures 14.5 inches tall. Safe for all ages. Removable clothing. Surface wash only. New 2015   \n",
       "1                                                              The New Yorker Handsome Cello Wrapped Hard Magnet measures 2.5-Inch width by 3.5-Inch height and highlight one of the many beautiful New Yorker covers in full color. Cat In A Tea Cup by New Yorker cover artist Gurbuz Dogan Eksioglu   \n",
       "2                                                                                                                                                                                                                                                                                                  NaN   \n",
       "3                                                                                                                                                                                                                                                                                                  NaN   \n",
       "\n",
       "                                                                                                                                                                                                                                                                                                           BULLET_POINTS  \\\n",
       "0                                                                                                        [Pete the Cat Bedtime Blues plush doll,Based on the popular Pete the Cat books by James Dean,Super cuddly and ready for naptime and bedtime,Safe for all ages, perfect for ages 2 and up,Measures 14. 5 inches]   \n",
       "1  [Cat In A Tea Cup by New Yorker cover artist Gurbuz Dogan Eksioglu,Handsome cello wrapped hard magnet,Ideal for home or office, or for a gift and for any New Yorker magazine lover,It highlight one of the many beautiful New Yorker covers in full color,Rigid magnet measures 2. 5-Inch width by 3. 5-Inch height]   \n",
       "2                                                                                                                                                                                                                                                                                                    Skyhorse Publishing   \n",
       "3                                                                                                                                                                                                                                                            [Nutrilite Kids,Chewable Iron Tablets,Quantity 100 tablets]   \n",
       "\n",
       "   BROWSE_NODE_ID  \n",
       "0               0  \n",
       "1               1  \n",
       "2               2  \n",
       "3               3  "
      ]
     },
     "execution_count": 68,
     "metadata": {},
     "output_type": "execute_result"
    }
   ],
   "source": [
    "d1"
   ]
  },
  {
   "cell_type": "code",
   "execution_count": 69,
   "id": "5a0f8e76",
   "metadata": {
    "scrolled": false
   },
   "outputs": [
    {
     "data": {
      "text/plain": [
       "792438"
      ]
     },
     "execution_count": 69,
     "metadata": {},
     "output_type": "execute_result"
    }
   ],
   "source": [
    "# finding out the number of rows in which there is atleast 1 NAN\n",
    "data.shape[0] - data.dropna().shape[0]"
   ]
  },
  {
   "cell_type": "code",
   "execution_count": 70,
   "id": "ff6e527c",
   "metadata": {},
   "outputs": [
    {
     "data": {
      "text/plain": [
       "2903024"
      ]
     },
     "execution_count": 70,
     "metadata": {},
     "output_type": "execute_result"
    }
   ],
   "source": [
    "# Total number of rows\n",
    "data.shape[0]"
   ]
  },
  {
   "cell_type": "code",
   "execution_count": 71,
   "id": "5268170c",
   "metadata": {},
   "outputs": [
    {
     "data": {
      "text/html": [
       "<div>\n",
       "<style scoped>\n",
       "    .dataframe tbody tr th:only-of-type {\n",
       "        vertical-align: middle;\n",
       "    }\n",
       "\n",
       "    .dataframe tbody tr th {\n",
       "        vertical-align: top;\n",
       "    }\n",
       "\n",
       "    .dataframe thead th {\n",
       "        text-align: right;\n",
       "    }\n",
       "</style>\n",
       "<table border=\"1\" class=\"dataframe\">\n",
       "  <thead>\n",
       "    <tr style=\"text-align: right;\">\n",
       "      <th></th>\n",
       "      <th>TITLE</th>\n",
       "      <th>DESCRIPTION</th>\n",
       "      <th>BULLET_POINTS</th>\n",
       "      <th>BRAND</th>\n",
       "      <th>BROWSE_NODE_ID</th>\n",
       "    </tr>\n",
       "  </thead>\n",
       "  <tbody>\n",
       "    <tr>\n",
       "      <th>3000</th>\n",
       "      <td>Luga Women's Cotton Silk Saree,rpl_3_Red_Freesize</td>\n",
       "      <td>Brand=Luga, Fabric= Cotton silk(top dyded)</td>\n",
       "      <td>[Material Type : Cotton Silk,With blouse piece,Wash Care : Regular]</td>\n",
       "      <td>Luga</td>\n",
       "      <td>1052</td>\n",
       "    </tr>\n",
       "    <tr>\n",
       "      <th>3001</th>\n",
       "      <td>ArtzFolio Artist Abstract with Doorway Canvas Painting Dark Brown Wood Frame 20 X 20Inch</td>\n",
       "      <td>NaN</td>\n",
       "      <td>[Framed artwork include hooks at the back of the frame for easy hanging and removal from the wall,Material: Museum-grade enhanced white cotton blend painting canvas | Dark Brown Frame | Multicolour | PACKAGE: 1 Premium Art Framed | SIZE: 20inch x 20inch (50.8cms x 50.8cms),With Framing: Canvas art print with premium 1 inch thick Dark Brown colour wooden frame with a back side hanging wire,We leverage sophisticated digital technology to capture every bit of detail in our prints; the texture and weight of the canvas brings fine art reproductions one step closer to the originals,Must be protected from sunlight, extreme temperature, dust and moisture to ensure long life]</td>\n",
       "      <td>ArtzFolio</td>\n",
       "      <td>700</td>\n",
       "    </tr>\n",
       "    <tr>\n",
       "      <th>3002</th>\n",
       "      <td>Chilli hybridJINNI NO 2,100gm seeds pack (4000+ seeds) by Raunak Seeds</td>\n",
       "      <td>Seeds may treated with Thiram, a fungicide just used for seeds safety to increase seeds dormancy level, not harmful- But not to be used Direct seeds for food, feed, or oil purpose!! Seeds needs to be sown in pots or land direct if seeds are small size needs to sow together later needs to be transplant for big size seeds like okra, gourds, sunflower seeds can sow one by one direct no transplantaion required!! The picture is an indication of type Only!! Our seeds are for gardeners , small garden pack, if you have tried this vty, know the results than only sow direct in field for farming purpose!! House of OP, Imported and Hybrid Seeds!! Please contact customer care via email for any further assistance!! Happy Gardening!!</td>\n",
       "      <td>[Chilli hybridJINNI NO 2,100gm seeds pack (4000+ seeds) by Raunak Seeds,Imported Seeds,Buy Only From Original Seller- GO Green,Picture is an indication of kind only]</td>\n",
       "      <td>Raunak Seeds</td>\n",
       "      <td>595</td>\n",
       "    </tr>\n",
       "    <tr>\n",
       "      <th>3003</th>\n",
       "      <td>Western Enterprises Western - Adaptor-Outlet, Sold As 1 Each</td>\n",
       "      <td>Western - adaptor-outlet, sold as 1 eachmade from the highest quality material to ensure functionality and durability. Provides a reliable seal during welding applications</td>\n",
       "      <td>[B-20,New and imported, ships from usa, delivers in 1-3 weeks,Price includes custom duties, freight charges and all applicable taxes]</td>\n",
       "      <td>Western Enterprises</td>\n",
       "      <td>684</td>\n",
       "    </tr>\n",
       "    <tr>\n",
       "      <th>3004</th>\n",
       "      <td>Paoli DP 1050; 1/2-Inch Impact Wrench - Max. Torque 518 ft-lbs</td>\n",
       "      <td>Paoli dp 1050; 1/2-inch impact wrench</td>\n",
       "      <td>[Ultra compact,Jumbo hammer mechanism,New and imported, ships from usa, delivers in 1-3 weeks,Price includes custom duties, freight charges and all applicable taxes]</td>\n",
       "      <td>Paoli</td>\n",
       "      <td>3004</td>\n",
       "    </tr>\n",
       "  </tbody>\n",
       "</table>\n",
       "</div>"
      ],
      "text/plain": [
       "                                                                                         TITLE  \\\n",
       "3000                                         Luga Women's Cotton Silk Saree,rpl_3_Red_Freesize   \n",
       "3001  ArtzFolio Artist Abstract with Doorway Canvas Painting Dark Brown Wood Frame 20 X 20Inch   \n",
       "3002                    Chilli hybridJINNI NO 2,100gm seeds pack (4000+ seeds) by Raunak Seeds   \n",
       "3003                              Western Enterprises Western - Adaptor-Outlet, Sold As 1 Each   \n",
       "3004                            Paoli DP 1050; 1/2-Inch Impact Wrench - Max. Torque 518 ft-lbs   \n",
       "\n",
       "                                                                                                                                                                                                                                                                                                                                                                                                                                                                                                                                                                                                                                                                                                                                                   DESCRIPTION  \\\n",
       "3000                                                                                                                                                                                                                                                                                                                                                                                                                                                                                                                                                                                                                                                                                                                Brand=Luga, Fabric= Cotton silk(top dyded)   \n",
       "3001                                                                                                                                                                                                                                                                                                                                                                                                                                                                                                                                                                                                                                                                                                                                                       NaN   \n",
       "3002  Seeds may treated with Thiram, a fungicide just used for seeds safety to increase seeds dormancy level, not harmful- But not to be used Direct seeds for food, feed, or oil purpose!! Seeds needs to be sown in pots or land direct if seeds are small size needs to sow together later needs to be transplant for big size seeds like okra, gourds, sunflower seeds can sow one by one direct no transplantaion required!! The picture is an indication of type Only!! Our seeds are for gardeners , small garden pack, if you have tried this vty, know the results than only sow direct in field for farming purpose!! House of OP, Imported and Hybrid Seeds!! Please contact customer care via email for any further assistance!! Happy Gardening!!   \n",
       "3003                                                                                                                                                                                                                                                                                                                                                                                                                                                                                                                                                                               Western - adaptor-outlet, sold as 1 eachmade from the highest quality material to ensure functionality and durability. Provides a reliable seal during welding applications   \n",
       "3004                                                                                                                                                                                                                                                                                                                                                                                                                                                                                                                                                                                                                                                                                                                     Paoli dp 1050; 1/2-inch impact wrench   \n",
       "\n",
       "                                                                                                                                                                                                                                                                                                                                                                                                                                                                                                                                                                                                                                                                                            BULLET_POINTS  \\\n",
       "3000                                                                                                                                                                                                                                                                                                                                                                                                                                                                                                                                                                                                                                  [Material Type : Cotton Silk,With blouse piece,Wash Care : Regular]   \n",
       "3001  [Framed artwork include hooks at the back of the frame for easy hanging and removal from the wall,Material: Museum-grade enhanced white cotton blend painting canvas | Dark Brown Frame | Multicolour | PACKAGE: 1 Premium Art Framed | SIZE: 20inch x 20inch (50.8cms x 50.8cms),With Framing: Canvas art print with premium 1 inch thick Dark Brown colour wooden frame with a back side hanging wire,We leverage sophisticated digital technology to capture every bit of detail in our prints; the texture and weight of the canvas brings fine art reproductions one step closer to the originals,Must be protected from sunlight, extreme temperature, dust and moisture to ensure long life]   \n",
       "3002                                                                                                                                                                                                                                                                                                                                                                                                                                                                                                                                [Chilli hybridJINNI NO 2,100gm seeds pack (4000+ seeds) by Raunak Seeds,Imported Seeds,Buy Only From Original Seller- GO Green,Picture is an indication of kind only]   \n",
       "3003                                                                                                                                                                                                                                                                                                                                                                                                                                                                                                                                                                [B-20,New and imported, ships from usa, delivers in 1-3 weeks,Price includes custom duties, freight charges and all applicable taxes]   \n",
       "3004                                                                                                                                                                                                                                                                                                                                                                                                                                                                                                                                [Ultra compact,Jumbo hammer mechanism,New and imported, ships from usa, delivers in 1-3 weeks,Price includes custom duties, freight charges and all applicable taxes]   \n",
       "\n",
       "                    BRAND  BROWSE_NODE_ID  \n",
       "3000                 Luga            1052  \n",
       "3001            ArtzFolio             700  \n",
       "3002         Raunak Seeds             595  \n",
       "3003  Western Enterprises             684  \n",
       "3004                Paoli            3004  "
      ]
     },
     "execution_count": 71,
     "metadata": {},
     "output_type": "execute_result"
    }
   ],
   "source": [
    "data[3000:3005]"
   ]
  },
  {
   "cell_type": "code",
   "execution_count": 72,
   "id": "6082366a",
   "metadata": {},
   "outputs": [
    {
     "data": {
      "text/plain": [
       "71"
      ]
     },
     "execution_count": 72,
     "metadata": {},
     "output_type": "execute_result"
    }
   ],
   "source": [
    "data['TITLE'].isna().sum()"
   ]
  },
  {
   "cell_type": "code",
   "execution_count": 73,
   "id": "49457554",
   "metadata": {},
   "outputs": [],
   "source": [
    "# removing the rows having NAN for the TITLE. (As there are only 71 such records).\n",
    "data = data[data['TITLE'].notna()]"
   ]
  },
  {
   "cell_type": "code",
   "execution_count": 74,
   "id": "2caa00a1",
   "metadata": {},
   "outputs": [
    {
     "data": {
      "text/plain": [
       "0"
      ]
     },
     "execution_count": 74,
     "metadata": {},
     "output_type": "execute_result"
    }
   ],
   "source": [
    "data['TITLE'].isna().sum()\n"
   ]
  },
  {
   "cell_type": "code",
   "execution_count": 75,
   "id": "8bd952d8",
   "metadata": {},
   "outputs": [
    {
     "name": "stderr",
     "output_type": "stream",
     "text": [
      "/home/mili/.local/lib/python3.8/site-packages/pandas/util/_decorators.py:311: SettingWithCopyWarning: \n",
      "A value is trying to be set on a copy of a slice from a DataFrame\n",
      "\n",
      "See the caveats in the documentation: https://pandas.pydata.org/pandas-docs/stable/user_guide/indexing.html#returning-a-view-versus-a-copy\n",
      "  return func(*args, **kwargs)\n"
     ]
    }
   ],
   "source": [
    "# Finding out if there are any duplicate entries leaving the id and removing them.\n",
    "cols_other_than_id = list(data.columns)[1:]\n",
    "data.duplicated(subset=cols_other_than_id).any()\n",
    "data.drop_duplicates(subset=cols_other_than_id, inplace=True)"
   ]
  },
  {
   "cell_type": "code",
   "execution_count": 76,
   "id": "f8916949",
   "metadata": {},
   "outputs": [
    {
     "data": {
      "text/plain": [
       "2013138"
      ]
     },
     "execution_count": 76,
     "metadata": {},
     "output_type": "execute_result"
    }
   ],
   "source": [
    "data.shape[0]"
   ]
  },
  {
   "cell_type": "code",
   "execution_count": 81,
   "id": "46d94713",
   "metadata": {},
   "outputs": [
    {
     "data": {
      "text/html": [
       "<div>\n",
       "<style scoped>\n",
       "    .dataframe tbody tr th:only-of-type {\n",
       "        vertical-align: middle;\n",
       "    }\n",
       "\n",
       "    .dataframe tbody tr th {\n",
       "        vertical-align: top;\n",
       "    }\n",
       "\n",
       "    .dataframe thead th {\n",
       "        text-align: right;\n",
       "    }\n",
       "</style>\n",
       "<table border=\"1\" class=\"dataframe\">\n",
       "  <thead>\n",
       "    <tr style=\"text-align: right;\">\n",
       "      <th></th>\n",
       "      <th>TITLE</th>\n",
       "      <th>DESCRIPTION</th>\n",
       "      <th>BULLET_POINTS</th>\n",
       "      <th>BRAND</th>\n",
       "      <th>BROWSE_NODE_ID</th>\n",
       "    </tr>\n",
       "  </thead>\n",
       "  <tbody>\n",
       "    <tr>\n",
       "      <th>3</th>\n",
       "      <td>Amway Nutrilite Kids Chewable Iron Tablets (100)</td>\n",
       "      <td>NaN</td>\n",
       "      <td>[Nutrilite Kids,Chewable Iron Tablets,Quantity 100 tablets]</td>\n",
       "      <td>Amway</td>\n",
       "      <td>3</td>\n",
       "    </tr>\n",
       "    <tr>\n",
       "      <th>101</th>\n",
       "      <td>Allergy Research Group Epd Basic Multivitamin 150 Veg Caps</td>\n",
       "      <td>EPD Basic MultiVitamin from Allergy Research Group is a nutritional supplement that features high quality and purity obtainable nutrients such as vitamins A, C, D3, E and B6, as well as thiamine, riboflavin, biotin and more.</td>\n",
       "      <td>[Allergy Research Group,Allergy Research Group Epd Basic Multivitamin 150 Veg Caps]</td>\n",
       "      <td>Allergy Research Group</td>\n",
       "      <td>3</td>\n",
       "    </tr>\n",
       "    <tr>\n",
       "      <th>16282</th>\n",
       "      <td>HawaiiPharm Alcohol-Free Liquid Extract, PU Huang, Cattail (Typha Angustifolia) Pollen Glycerite Herbal Supplement 2 Oz</td>\n",
       "      <td>Other names of Cattails include reedmace, bulrush, catninetail, raupo, punks, cumbungi, corn dog grass, and so on. In China it is mainly produced in provinces of Zhejiang, Jiangsu, Anhui, Hubei, and Shandong. The yellow male inflorescence, located at the top of cattail flower spikes, is usually collected in summer. After that, it needs to be dried in the sun, ground, and sifted for the fine powder. It is generally used raw or fried. Pollen of cattails mainly contains flavonoids, sterols, polysaccharides, amino acids, trace elements, volatile oil, etc. Flavonoids mainly include typhaneoside, quercetin, kaempferol, isorhamnetin, and naringenin. Sterols mainly include ?-sitosterol, ?-sitosterol glucoside, ?-sitosterol palmitate, and pentacosane. Amino acids are aspartic acid, threonine, serine, glutamic acid, valine, arginine, proline, cystine, and tryptophan. Trace elements include titanium, aluminum, boron, prostrate, chromium, copper, mercury, iron, iodine, molybdenum, selenium, zinc, etc.</td>\n",
       "      <td>[Other names of Cattails include reedmace, bulrush, catninetail, raupo, punks, cumbungi, corn dog grass, and so on,The yellow male inflorescence, located at the top of cattail flower spikes, is usually collected in summer,It needs to be dried in the sun, ground, and sifted for the fine powder,FSSAI Importer Licence no: 10018022008525]</td>\n",
       "      <td>HawaiiPharm</td>\n",
       "      <td>3</td>\n",
       "    </tr>\n",
       "    <tr>\n",
       "      <th>33347</th>\n",
       "      <td>Centrum Silver Women Multivitamin for 50 Plus - 250 Tablets</td>\n",
       "      <td>Centrum Silver Multivitamin Multimineral Supplement For Women 50+, 250 Tablets</td>\n",
       "      <td>[Form: Tablets,Serving Size: 1 Tablet,Multivitamin Supplement,This is a Non-vegetarian product,FSSAI Importer Licence no:10017022006293]</td>\n",
       "      <td>Centrum</td>\n",
       "      <td>3</td>\n",
       "    </tr>\n",
       "    <tr>\n",
       "      <th>47365</th>\n",
       "      <td>Dehlvi Health Tonic, 500 ml</td>\n",
       "      <td>The product in display is available in a pack of 500 ml.</td>\n",
       "      <td>[Material: Liquid,Product Colour: Orange,Package Contents: 1 Dehlvi Helth Tonic,Product Quantity: 500 ml,Directions for Usage: Take suggested dosage; Storage Instructions: Keep in cool and dry place]</td>\n",
       "      <td>Dehlvi</td>\n",
       "      <td>3</td>\n",
       "    </tr>\n",
       "    <tr>\n",
       "      <th>...</th>\n",
       "      <td>...</td>\n",
       "      <td>...</td>\n",
       "      <td>...</td>\n",
       "      <td>...</td>\n",
       "      <td>...</td>\n",
       "    </tr>\n",
       "    <tr>\n",
       "      <th>2866177</th>\n",
       "      <td>ELPELLO TABLETS Complete Multivitamin with Amino Acids</td>\n",
       "      <td>Solve Split ends problem No side effects</td>\n",
       "      <td>[A to z multivitamins and minerals,Perfect Formula for men and women,This comprehensive and complete formula delivers a total of 47 vitamins, minerals, super antioxidants, phytonutrients, amino acids, digestive enzymes, health blends in one convenient daily dose,Features branched chain amino acids to fuel muscles,The best multivitamin formulation to meet the complex nutritional challenges faced by men]</td>\n",
       "      <td>ELPELLO</td>\n",
       "      <td>3</td>\n",
       "    </tr>\n",
       "    <tr>\n",
       "      <th>2876476</th>\n",
       "      <td>One-A-Day One-A-Day Multivitamin Men's Health Formula Tablets 200 Count by One-A-Day</td>\n",
       "      <td>Daily multivitamins for Men</td>\n",
       "      <td>NaN</td>\n",
       "      <td>One-A-Day</td>\n",
       "      <td>3</td>\n",
       "    </tr>\n",
       "    <tr>\n",
       "      <th>2883346</th>\n",
       "      <td>Nutricharge Daily Health Suppliment For Woman - |Daily Multivitamin| (Pack Of 2)</td>\n",
       "      <td>Nutricharge Woman is a first ever health supplement for women in India that contains 53 key nutrients – 13 vitamins and 15 minerals, 14 fruit extracts, 6 botanicals and 5 amino-acids. It is a strawberry flavored tablet with no bad smell.</td>\n",
       "      <td>[Daily health supplement,Specially Daily Nutrition for Women,Comes in Pack of 2]</td>\n",
       "      <td>Nutricharge</td>\n",
       "      <td>3</td>\n",
       "    </tr>\n",
       "    <tr>\n",
       "      <th>2889002</th>\n",
       "      <td>Nature Made Prenatal Multi Plus DHA - 90 Liquid Softgels</td>\n",
       "      <td>NaN</td>\n",
       "      <td>[For pregnant and nursing moms,Dha may help support fetal brain and eye development,Designed for pregnant and nursing moms.,Healthy pregnancy,Healthy fetal development]</td>\n",
       "      <td>Nature Made</td>\n",
       "      <td>3</td>\n",
       "    </tr>\n",
       "    <tr>\n",
       "      <th>2896615</th>\n",
       "      <td>Verdure L Glutathione with Vitamin C &amp; E, Biotin, Milk Thistle, Grapeseed extract &amp; Alpha Lipoic acid - 1000mg / 2 Capsules for Skin Health - 1 month</td>\n",
       "      <td>VERDURE\"S GLUTATHIONE PRO is a powerful formula for skin and hair. Glutathione is a naturally occurring combination of 3- peptides which is naturally present in our cells and is critical to many cellular processes. PACKED WITH &amp; SKIN NUTRIENTS, Verdure's Glutathione PRO combination works for maintaining skin health. It acts s a powerful antioxidant in the body helping reduce the toxins and free radicals lending your skin a healthy touch. Biotin with the combination supports skin, hair &amp; nails health. POWER OF 7 SKIN NUTRIENTS: L Glutathione 500 mg, Biotin, Milk Thistle, Vitamin C, Vitamin, Alpha Lipoic Acid &amp; Grape seed extract for healthy skin and hair SKIN HEALTH : This combination supports healthy skin by working as essential multivitamins SUPPORTS RESTORING SKIN HEALTH WITH MILK THISTLE: Milk Thistle is a powerful anti-oxidant that helps Glutathione in its effect to help healthy skin in fighting the free radicals and thereby giving a glowing skin. HIGH STRENGTH &amp; BETTER ABSORPTION FORMULA: L Glutathione is absorbed better with Vitamin C , Milk Thistle, Vitamin E &amp; Alpha Lipoic Acid which make this combination a great skin health supplement</td>\n",
       "      <td>[POWER OF 7 SKIN NUTRIENTS: Glutathione in a US Pharmacopoeia compliant product in combination with Vitamin C , Milk Thistle, Vitamin E, Biotin, Grape seed Extract &amp; Alpha Lipoic Acid is an excellent formula to help your skin rejuvenate and glow.,SKIN HEALTH: Get a healthy skin with the usage of Verdure's Glutathione PRO for 8 weeks,HIGH STRENGTH &amp; BETTER ABSORPTION FORMULA: Glutathione is absorbed better with Vitamin C &amp; Milk Thistle. This formula combines these along with other nutrients like Vitamin E , Alpha Lipoic acid that act as powerful anti-oxidants and enhance the Glutathione's action]</td>\n",
       "      <td>Verdure</td>\n",
       "      <td>3</td>\n",
       "    </tr>\n",
       "  </tbody>\n",
       "</table>\n",
       "<p>319 rows × 5 columns</p>\n",
       "</div>"
      ],
      "text/plain": [
       "                                                                                                                                                         TITLE  \\\n",
       "3                                                                                                             Amway Nutrilite Kids Chewable Iron Tablets (100)   \n",
       "101                                                                                                 Allergy Research Group Epd Basic Multivitamin 150 Veg Caps   \n",
       "16282                                  HawaiiPharm Alcohol-Free Liquid Extract, PU Huang, Cattail (Typha Angustifolia) Pollen Glycerite Herbal Supplement 2 Oz   \n",
       "33347                                                                                              Centrum Silver Women Multivitamin for 50 Plus - 250 Tablets   \n",
       "47365                                                                                                                              Dehlvi Health Tonic, 500 ml   \n",
       "...                                                                                                                                                        ...   \n",
       "2866177                                                                                                 ELPELLO TABLETS Complete Multivitamin with Amino Acids   \n",
       "2876476                                                                   One-A-Day One-A-Day Multivitamin Men's Health Formula Tablets 200 Count by One-A-Day   \n",
       "2883346                                                                       Nutricharge Daily Health Suppliment For Woman - |Daily Multivitamin| (Pack Of 2)   \n",
       "2889002                                                                                               Nature Made Prenatal Multi Plus DHA - 90 Liquid Softgels   \n",
       "2896615  Verdure L Glutathione with Vitamin C & E, Biotin, Milk Thistle, Grapeseed extract & Alpha Lipoic acid - 1000mg / 2 Capsules for Skin Health - 1 month   \n",
       "\n",
       "                                                                                                                                                                                                                                                                                                                                                                                                                                                                                                                                                                                                                                                                                                                                                                                                                                                                                                                                                                                                                                                                                                                                                                                                       DESCRIPTION  \\\n",
       "3                                                                                                                                                                                                                                                                                                                                                                                                                                                                                                                                                                                                                                                                                                                                                                                                                                                                                                                                                                                                                                                                                                                                                                                                              NaN   \n",
       "101                                                                                                                                                                                                                                                                                                                                                                                                                                                                                                                                                                                                                                                                                                                                                                                                                                                                                                                                                                               EPD Basic MultiVitamin from Allergy Research Group is a nutritional supplement that features high quality and purity obtainable nutrients such as vitamins A, C, D3, E and B6, as well as thiamine, riboflavin, biotin and more.   \n",
       "16282                                                                                                                                                                 Other names of Cattails include reedmace, bulrush, catninetail, raupo, punks, cumbungi, corn dog grass, and so on. In China it is mainly produced in provinces of Zhejiang, Jiangsu, Anhui, Hubei, and Shandong. The yellow male inflorescence, located at the top of cattail flower spikes, is usually collected in summer. After that, it needs to be dried in the sun, ground, and sifted for the fine powder. It is generally used raw or fried. Pollen of cattails mainly contains flavonoids, sterols, polysaccharides, amino acids, trace elements, volatile oil, etc. Flavonoids mainly include typhaneoside, quercetin, kaempferol, isorhamnetin, and naringenin. Sterols mainly include ?-sitosterol, ?-sitosterol glucoside, ?-sitosterol palmitate, and pentacosane. Amino acids are aspartic acid, threonine, serine, glutamic acid, valine, arginine, proline, cystine, and tryptophan. Trace elements include titanium, aluminum, boron, prostrate, chromium, copper, mercury, iron, iodine, molybdenum, selenium, zinc, etc.   \n",
       "33347                                                                                                                                                                                                                                                                                                                                                                                                                                                                                                                                                                                                                                                                                                                                                                                                                                                                                                                                                                                                                                                                                                                               Centrum Silver Multivitamin Multimineral Supplement For Women 50+, 250 Tablets   \n",
       "47365                                                                                                                                                                                                                                                                                                                                                                                                                                                                                                                                                                                                                                                                                                                                                                                                                                                                                                                                                                                                                                                                                                                                                     The product in display is available in a pack of 500 ml.   \n",
       "...                                                                                                                                                                                                                                                                                                                                                                                                                                                                                                                                                                                                                                                                                                                                                                                                                                                                                                                                                                                                                                                                                                                                                                                                            ...   \n",
       "2866177                                                                                                                                                                                                                                                                                                                                                                                                                                                                                                                                                                                                                                                                                                                                                                                                                                                                                                                                                                                                                                                                                                                                                                   Solve Split ends problem No side effects   \n",
       "2876476                                                                                                                                                                                                                                                                                                                                                                                                                                                                                                                                                                                                                                                                                                                                                                                                                                                                                                                                                                                                                                                                                                                                                                                Daily multivitamins for Men   \n",
       "2883346                                                                                                                                                                                                                                                                                                                                                                                                                                                                                                                                                                                                                                                                                                                                                                                                                                                                                                                                                              Nutricharge Woman is a first ever health supplement for women in India that contains 53 key nutrients – 13 vitamins and 15 minerals, 14 fruit extracts, 6 botanicals and 5 amino-acids. It is a strawberry flavored tablet with no bad smell.   \n",
       "2889002                                                                                                                                                                                                                                                                                                                                                                                                                                                                                                                                                                                                                                                                                                                                                                                                                                                                                                                                                                                                                                                                                                                                                                                                        NaN   \n",
       "2896615  VERDURE\"S GLUTATHIONE PRO is a powerful formula for skin and hair. Glutathione is a naturally occurring combination of 3- peptides which is naturally present in our cells and is critical to many cellular processes. PACKED WITH & SKIN NUTRIENTS, Verdure's Glutathione PRO combination works for maintaining skin health. It acts s a powerful antioxidant in the body helping reduce the toxins and free radicals lending your skin a healthy touch. Biotin with the combination supports skin, hair & nails health. POWER OF 7 SKIN NUTRIENTS: L Glutathione 500 mg, Biotin, Milk Thistle, Vitamin C, Vitamin, Alpha Lipoic Acid & Grape seed extract for healthy skin and hair SKIN HEALTH : This combination supports healthy skin by working as essential multivitamins SUPPORTS RESTORING SKIN HEALTH WITH MILK THISTLE: Milk Thistle is a powerful anti-oxidant that helps Glutathione in its effect to help healthy skin in fighting the free radicals and thereby giving a glowing skin. HIGH STRENGTH & BETTER ABSORPTION FORMULA: L Glutathione is absorbed better with Vitamin C , Milk Thistle, Vitamin E & Alpha Lipoic Acid which make this combination a great skin health supplement   \n",
       "\n",
       "                                                                                                                                                                                                                                                                                                                                                                                                                                                                                                                                                                                                                      BULLET_POINTS  \\\n",
       "3                                                                                                                                                                                                                                                                                                                                                                                                                                                                                                                                                                       [Nutrilite Kids,Chewable Iron Tablets,Quantity 100 tablets]   \n",
       "101                                                                                                                                                                                                                                                                                                                                                                                                                                                                                                                                             [Allergy Research Group,Allergy Research Group Epd Basic Multivitamin 150 Veg Caps]   \n",
       "16282                                                                                                                                                                                                                                                                              [Other names of Cattails include reedmace, bulrush, catninetail, raupo, punks, cumbungi, corn dog grass, and so on,The yellow male inflorescence, located at the top of cattail flower spikes, is usually collected in summer,It needs to be dried in the sun, ground, and sifted for the fine powder,FSSAI Importer Licence no: 10018022008525]   \n",
       "33347                                                                                                                                                                                                                                                                                                                                                                                                                                                                                      [Form: Tablets,Serving Size: 1 Tablet,Multivitamin Supplement,This is a Non-vegetarian product,FSSAI Importer Licence no:10017022006293]   \n",
       "47365                                                                                                                                                                                                                                                                                                                                                                                                                       [Material: Liquid,Product Colour: Orange,Package Contents: 1 Dehlvi Helth Tonic,Product Quantity: 500 ml,Directions for Usage: Take suggested dosage; Storage Instructions: Keep in cool and dry place]   \n",
       "...                                                                                                                                                                                                                                                                                                                                                                                                                                                                                                                                                                                                                             ...   \n",
       "2866177                                                                                                                                                                                                       [A to z multivitamins and minerals,Perfect Formula for men and women,This comprehensive and complete formula delivers a total of 47 vitamins, minerals, super antioxidants, phytonutrients, amino acids, digestive enzymes, health blends in one convenient daily dose,Features branched chain amino acids to fuel muscles,The best multivitamin formulation to meet the complex nutritional challenges faced by men]   \n",
       "2876476                                                                                                                                                                                                                                                                                                                                                                                                                                                                                                                                                                                                                         NaN   \n",
       "2883346                                                                                                                                                                                                                                                                                                                                                                                                                                                                                                                                            [Daily health supplement,Specially Daily Nutrition for Women,Comes in Pack of 2]   \n",
       "2889002                                                                                                                                                                                                                                                                                                                                                                                                                                                    [For pregnant and nursing moms,Dha may help support fetal brain and eye development,Designed for pregnant and nursing moms.,Healthy pregnancy,Healthy fetal development]   \n",
       "2896615  [POWER OF 7 SKIN NUTRIENTS: Glutathione in a US Pharmacopoeia compliant product in combination with Vitamin C , Milk Thistle, Vitamin E, Biotin, Grape seed Extract & Alpha Lipoic Acid is an excellent formula to help your skin rejuvenate and glow.,SKIN HEALTH: Get a healthy skin with the usage of Verdure's Glutathione PRO for 8 weeks,HIGH STRENGTH & BETTER ABSORPTION FORMULA: Glutathione is absorbed better with Vitamin C & Milk Thistle. This formula combines these along with other nutrients like Vitamin E , Alpha Lipoic acid that act as powerful anti-oxidants and enhance the Glutathione's action]   \n",
       "\n",
       "                          BRAND  BROWSE_NODE_ID  \n",
       "3                         Amway               3  \n",
       "101      Allergy Research Group               3  \n",
       "16282               HawaiiPharm               3  \n",
       "33347                   Centrum               3  \n",
       "47365                    Dehlvi               3  \n",
       "...                         ...             ...  \n",
       "2866177                 ELPELLO               3  \n",
       "2876476               One-A-Day               3  \n",
       "2883346             Nutricharge               3  \n",
       "2889002             Nature Made               3  \n",
       "2896615                 Verdure               3  \n",
       "\n",
       "[319 rows x 5 columns]"
      ]
     },
     "execution_count": 81,
     "metadata": {},
     "output_type": "execute_result"
    }
   ],
   "source": [
    "# check what kind of entries are present for a specific value of BROWSE_NODE_ID\n",
    "data.loc[data['BROWSE_NODE_ID'] == 3]"
   ]
  },
  {
   "cell_type": "code",
   "execution_count": null,
   "id": "f433a228",
   "metadata": {},
   "outputs": [],
   "source": []
  }
 ],
 "metadata": {
  "kernelspec": {
   "display_name": "Python 3",
   "language": "python",
   "name": "python3"
  },
  "language_info": {
   "codemirror_mode": {
    "name": "ipython",
    "version": 3
   },
   "file_extension": ".py",
   "mimetype": "text/x-python",
   "name": "python",
   "nbconvert_exporter": "python",
   "pygments_lexer": "ipython3",
   "version": "3.8.10"
  }
 },
 "nbformat": 4,
 "nbformat_minor": 5
}
